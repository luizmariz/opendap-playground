{
 "cells": [
  {
   "cell_type": "markdown",
   "metadata": {},
   "source": [
    "### Importing"
   ]
  },
  {
   "cell_type": "code",
   "execution_count": 3,
   "metadata": {},
   "outputs": [],
   "source": [
    "# -*- coding: utf-8 -*-\n",
    "import os\n",
    "os.environ['PROJ_LIB'] = r'/home/luiz/anaconda3/pkgs/proj-7.1.0-h966b41f_1/share/proj'\n",
    "\n",
    "from math import trunc\n",
    "import netCDF4 as nc\n",
    "import numpy as np\n",
    "from mpl_toolkits.basemap import Basemap\n",
    "import matplotlib.pyplot as plt\n",
    "import datetime as dtt"
   ]
  },
  {
   "cell_type": "markdown",
   "metadata": {},
   "source": [
    "### Loading data"
   ]
  },
  {
   "cell_type": "code",
   "execution_count": null,
   "metadata": {},
   "outputs": [],
   "source": [
    "day = 9\n",
    "month = 2\n",
    "year = 2014\n",
    "\n",
    "# [0:1:0]\n",
    "time_min=0\n",
    "time_timestep=1\n",
    "time_max=0\n",
    "# [0:1:15999],\n",
    "lat_min=7000\n",
    "lat_timestep=1\n",
    "lat_max=9000\n",
    "# [0:1:35999]\n",
    "lon_min=17000\n",
    "lon_timestep=1\n",
    "lon_max=19000\n",
    "  \n",
    "date =  dtt.date(year, month, day)\n",
    "formatted_date = str(date).replace('-', '')\n",
    "\n",
    "url = \"https://podaac-opendap.jpl.nasa.gov/opendap/hyrax/allData/ghrsst/data/L4/GLOB/JPL_OUROCEAN/G1SST/{0}/{1:03d}/{2}-JPL_OUROCEAN-L4UHfnd-GLOB-v01-fv01_0-G1SST.nc.bz2?time[{3}:{4}:{5}],lat[{6}:{7}:{8}],lon[{9}:{10}:{11}],analysed_sst[{3}:{4}:{5}][{6:d}:{7}:{8}][{9}:{10}:{11}]\".format(date.year,  date.timetuple().tm_yday, formatted_date, time_min, time_timestep, time_max, lat_min, lat_timestep, lat_max, lon_min, lon_timestep, lon_max)\n",
    "\n",
    "print('Reading via OpenDAP, {} '.format(url))\n",
    "dataset = nc.Dataset(url, \"r\", format=\"NETCDF4\" )\n",
    "\n",
    "print(dataset)"
   ]
  },
  {
   "cell_type": "code",
   "execution_count": null,
   "metadata": {},
   "outputs": [],
   "source": [
    "print(dataset.variables[\"lat\"], dataset.variables[\"lon\"], dataset.variables[\"analysed_sst\"], sep=\"\\n\")\n",
    "\n",
    "lats = dataset.variables[\"lat\"][:]\n",
    "lons = dataset.variables[\"lon\"][:]"
   ]
  },
  {
   "cell_type": "markdown",
   "metadata": {},
   "source": [
    "### Plot"
   ]
  },
  {
   "cell_type": "code",
   "execution_count": null,
   "metadata": {},
   "outputs": [],
   "source": [
    "plt.figure(figsize=(10, 10))\n",
    "mp = Basemap(projection=\"mill\", llcrnrlon=lons.min(), urcrnrlon=lons.max(), llcrnrlat=lats.min(), urcrnrlat=lats.max(), resolution='i')\n",
    "# mp = Basemap(projection='robin', lon_0=0, resolution='c')\n",
    "\n",
    "lon, lat = np.meshgrid(lons, lats)\n",
    "x, y = mp(lon, lat)\n",
    "\n",
    "color_scheme = mp.pcolormesh(x, y, np.squeeze(dataset.variables[\"analysed_sst\"][:]), cmap = 'jet', shading='auto')\n",
    "\n",
    "mp.drawcoastlines()\n",
    "mp.drawstates()\n",
    "mp.drawcountries()\n",
    "\n",
    "mp.drawparallels(np.arange(-90,90,30),labels=[1,0,0,0])\n",
    "mp.drawmeridians(np.arange(mp.lonmin,mp.lonmax+30,60),labels=[0,0,0,1])\n",
    "\n",
    "mp.fillcontinents(color='coral',lake_color='aqua')\n",
    "\n",
    "color_bar = mp.colorbar(color_scheme, location='right', pad=\"5%\")\n",
    "\n",
    "plt.title(\"Ocean temperature on {}\".format(date))\n",
    "plt.show()\n",
    "\n",
    "dataset.close()"
   ]
  }
 ],
 "metadata": {
  "kernelspec": {
   "display_name": "Python 3",
   "language": "python",
   "name": "python3"
  },
  "language_info": {
   "codemirror_mode": {
    "name": "ipython",
    "version": 3
   },
   "file_extension": ".py",
   "mimetype": "text/x-python",
   "name": "python",
   "nbconvert_exporter": "python",
   "pygments_lexer": "ipython3",
   "version": "3.8.5"
  }
 },
 "nbformat": 4,
 "nbformat_minor": 4
}
